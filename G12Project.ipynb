{
 "cells": [
  {
   "cell_type": "code",
   "execution_count": 96,
   "id": "a8f9ff34-ba58-414e-b90a-525ec68f2cb2",
   "metadata": {},
   "outputs": [
    {
     "name": "stdin",
     "output_type": "stream",
     "text": [
      "Please input directory path to Prodigal (e.g., '/directory/path/to/prodigal'): /home/padawan/anaconda3/pkgs/prodigal-2.6.3-hec16e2b_4/bin/prodigal\n",
      "Please input directory path to the .fna file(s) (e.g., '/directory/path/to/something/like/GCA_001953955.1.fna'): /home/padawan/kofamscan/bin/kofam_scan-1.3.0/GCF_003812925.1_ASM381292v1_genomic.fna\n"
     ]
    },
    {
     "name": "stderr",
     "output_type": "stream",
     "text": [
      "-------------------------------------\n",
      "PRODIGAL v2.6.3 [February, 2016]         \n",
      "Univ of Tenn / Oak Ridge National Lab\n",
      "Doug Hyatt, Loren Hauser, et al.     \n",
      "-------------------------------------\n",
      "Request:  Single Genome, Phase:  Training\n",
      "Reading in the sequence(s) to train...5879112 bp seq created, 55.13 pct GC\n",
      "Locating all potential starts and stops...279905 nodes\n",
      "Looking for GC bias in different frames...frame bias scores: 0.71 0.16 2.12\n",
      "Building initial set of genes to train from...done!\n",
      "Creating coding model and scoring nodes...done!\n",
      "Examining upstream regions and training starts...done!\n",
      "-------------------------------------\n",
      "Request:  Single Genome, Phase:  Gene Finding\n",
      "Finding genes in sequence #1 (5864574 bp)...done!\n"
     ]
    },
    {
     "name": "stdout",
     "output_type": "stream",
     "text": [
      "> Prodigal successfully run on /home/padawan/kofamscan/bin/kofam_scan-1.3.0/GCF_003812925.1_ASM381292v1_genomic.fna. Output .faa file saved as /home/padawan/kofamscan/bin/kofam_scan-1.3.0/GCF_003812925.1_ASM381292v1_genomic.faa\n"
     ]
    },
    {
     "name": "stderr",
     "output_type": "stream",
     "text": [
      "Finding genes in sequence #2 (6078 bp)...done!\n",
      "Finding genes in sequence #3 (8424 bp)...done!\n"
     ]
    }
   ],
   "source": [
    "import os\n",
    "import subprocess\n",
    "\n",
    "\n",
    "def run_prodigal(prodigal_path, input_fna, output_fasta):\n",
    "    # Run Prodigal using subprocess with the provided path\n",
    "    # \n",
    "    prodigal_command = f'\"{prodigal_path}\" -a \"{output_fasta}.faa\" -d \"{output_fasta}.ffn\" -n -i \"{input_fna}\" -o \"{output_fasta}.gff\"'\n",
    "    subprocess.run(prodigal_command, shell=True)\n",
    "\n",
    "def make_AAseq():\n",
    "    # Replace the path and file names with your actual paths and file names\n",
    "    #Keep in mind, Prodigal on Windows will have a .exe extension\n",
    "    prodigal_path = input(\"Please input directory path to Prodigal (e.g., '/directory/path/to/prodigal'):\")\n",
    "    input_fna = input(\"Please input directory path to the .fna file(s) (e.g., '/directory/path/to/something/like/GCA_001953955.1.fna'):\")\n",
    "       \n",
    "    # Extract the directory and base name of the input file\n",
    "    input_directory, input_base_name = os.path.split(input_fna)\n",
    "    \n",
    "    # Generate the output file name with the new extension \".faa\"\n",
    "    output_fasta = os.path.join(input_directory, os.path.splitext(input_base_name)[0])\n",
    "    output_faa = f'\"{output_fasta}.faa\"'\n",
    "    \n",
    "    \n",
    "    try:\n",
    "        # Run Prodigal on the input file\n",
    "        run_prodigal(prodigal_path, input_fna, output_fasta)\n",
    "        print(f\"> Prodigal successfully run on {input_fna}. Output .faa file saved as {output_fasta}.faa\")\n",
    "    except Exception as e:\n",
    "        print(f\"> Error: {e}\")\n",
    "    \n",
    "    \n",
    "make_AAseq()\n",
    "\n"
   ]
  },
  {
   "cell_type": "raw",
   "id": "fd15da71-b34c-4490-88e4-31b400c1ac41",
   "metadata": {},
   "source": []
  },
  {
   "cell_type": "raw",
   "id": "10be8df4-816e-4551-b793-0e6831a3e08e",
   "metadata": {},
   "source": []
  },
  {
   "cell_type": "code",
   "execution_count": 101,
   "id": "8b6415f5-cf6a-467e-a86f-2027519da776",
   "metadata": {},
   "outputs": [
    {
     "name": "stdin",
     "output_type": "stream",
     "text": [
      "Please input directory path to the KOFamScan folder containing the exec_annotation file (e.g., '/directory/path/to/kofam_scan-1.3.0'): /home/padawan/kofamscan/bin/kofam_scan-1.3.0\n",
      "Please enter the directory path to the KO_list (e.g., 'path/to/db/ko_list' /home/padawan/kofamscan/db/ko_list\n",
      "Please enter the directory path to the HMM profiles database (e.g., 'path/to/db/profiles' /home/padawan/kofamscan/db/profiles\n",
      "Please name the output file (e.g., 'GCA_001953955.1.ko'):  GCF_003812925.1_ASM381292v1_genomic.ko\n",
      "Please input the path to the .faa file(s) (e.g., '/directory/path/to/something/like/GCA_001953955.1.faa'): /home/padawan/kofamscan/bin/kofam_scan-1.3.0/GCF_003812925.1_ASM381292v1_genomic.faa\n"
     ]
    },
    {
     "name": "stdout",
     "output_type": "stream",
     "text": [
      "> Translation to Unix: cd /home/padawan/kofamscan/bin/kofam_scan-1.3.0 ; ./exec_annotation -k /home/padawan/kofamscan/db/ko_list -p /home/padawan/kofamscan/db/profiles --cpu 6 -E 0.00001 -o GCF_003812925.1_ASM381292v1_genomic.ko /home/padawan/kofamscan/bin/kofam_scan-1.3.0/GCF_003812925.1_ASM381292v1_genomic.faa 1>G12.ko.log 2>G12.ko.err &\n",
      "> KOFamScan was run on /home/padawan/kofamscan/bin/kofam_scan-1.3.0/GCF_003812925.1_ASM381292v1_genomic.faa. Output saved as GCF_003812925.1_ASM381292v1_genomic.ko\n",
      "If you're unable to find your .ko file, check the folder where your exec_annotation is saved!\n"
     ]
    }
   ],
   "source": [
    "def run_kofamscan(kofamscan_path, kolist, profiles, output_ko, input_faa):\n",
    "    # Change to KOFamScan's directory, and run using fixed values. Adjust as needed, particularly number of CPUs used.\n",
    "    kofamscan_command = f'cd {kofamscan_path} ; ./exec_annotation -k {kolist} -p {profiles} --cpu 1 -E 0.00001 -o {output_ko} {input_faa} 1>G12.ko.log 2>G12.ko.err &'\n",
    "    subprocess.run(kofamscan_command, shell=True)\n",
    "    print(\"> Translation to Unix:\", kofamscan_command)\n",
    "        \n",
    "def analyze_proteins():\n",
    "    kofamscan_path = input(\"Please input directory path to the KOFamScan folder containing the exec_annotation file (e.g., '/directory/path/to/kofam_scan-1.3.0'):\")\n",
    "    kolist = input(\"Please enter the directory path to the KO_list (e.g., 'path/to/db/ko_list'\")\n",
    "    profiles = input(\"Please enter the directory path to the HMM profiles database (e.g., 'path/to/db/profiles'\")\n",
    "    output_ko = input(\"Please name the output file (e.g., 'GCA_001953955.1.ko'): \")\n",
    "    input_faa = input(\"Please input the path to the .faa file(s) (e.g., '/directory/path/to/something/like/GCA_001953955.1.faa'):\")\n",
    "    \n",
    "    \n",
    "    try:\n",
    "        # Run KOFamScan on the input file\n",
    "        run_kofamscan(kofamscan_path, kolist, profiles, output_ko, input_faa)\n",
    "        print(f\"> KOFamScan was run on {input_faa}. Output saved as {output_ko}\")\n",
    "        print(\"If you\\'re unable to find your .ko file, check the folder where your exec_annotation is saved!\")\n",
    "\n",
    "    except Exception as e:\n",
    "        print(f\"> Error: {e}\")\n",
    "\n",
    "analyze_proteins()\n"
   ]
  },
  {
   "cell_type": "raw",
   "id": "709f69dd-1979-43d2-bea8-e40cb30a322d",
   "metadata": {},
   "source": []
  },
  {
   "cell_type": "code",
   "execution_count": null,
   "id": "55221d3e-2b6c-4987-9fab-8a748d37fbae",
   "metadata": {},
   "outputs": [],
   "source": []
  },
  {
   "cell_type": "raw",
   "id": "918ffdfc-5ef9-4e8a-b31f-1b016f511d3f",
   "metadata": {},
   "source": []
  },
  {
   "cell_type": "raw",
   "id": "d230d941-336f-4281-9c7f-f7454c7c1318",
   "metadata": {},
   "source": []
  },
  {
   "cell_type": "raw",
   "id": "4ac982ca-ed91-46ee-af98-6559c4ec8e71",
   "metadata": {},
   "source": []
  },
  {
   "cell_type": "raw",
   "id": "458f1037-152e-4824-890f-752facb15e53",
   "metadata": {},
   "source": []
  },
  {
   "cell_type": "code",
   "execution_count": 42,
   "id": "6ebb439c-96c5-44d9-95dd-7e86284069a7",
   "metadata": {},
   "outputs": [
    {
     "name": "stdout",
     "output_type": "stream",
     "text": [
      "Requirement already satisfied: pandas in /home/padawan/anaconda3/lib/python3.9/site-packages (1.4.2)\n",
      "Requirement already satisfied: python-dateutil>=2.8.1 in /home/padawan/anaconda3/lib/python3.9/site-packages (from pandas) (2.8.2)\n",
      "Requirement already satisfied: pytz>=2020.1 in /home/padawan/anaconda3/lib/python3.9/site-packages (from pandas) (2021.3)\n",
      "Requirement already satisfied: numpy>=1.18.5 in /home/padawan/anaconda3/lib/python3.9/site-packages (from pandas) (1.21.5)\n",
      "Requirement already satisfied: six>=1.5 in /home/padawan/anaconda3/lib/python3.9/site-packages (from python-dateutil>=2.8.1->pandas) (1.16.0)\n"
     ]
    }
   ],
   "source": [
    "def install_pandas():\n",
    "    # Install pandas locally if you don't already have it, ONLY NEEDS TO BE DONE ONCE!!\n",
    "    pandasinstall = \"pip3 install pandas\"\n",
    "    subprocess.run(pandasinstall, shell=True)\n",
    "install_pandas()"
   ]
  },
  {
   "cell_type": "code",
   "execution_count": null,
   "id": "2000b61a-cfd2-43c0-b374-07cb25b20f96",
   "metadata": {},
   "outputs": [],
   "source": []
  },
  {
   "cell_type": "code",
   "execution_count": 106,
   "id": "fa0347cd-943f-41d8-ab63-80e8b50eaf2b",
   "metadata": {},
   "outputs": [
    {
     "name": "stdin",
     "output_type": "stream",
     "text": [
      "Please input the path to the .ko file (e.g., '/directory/path/to/something/like/GCA_001953955.1.ko'): /home/padawan/kofamscan/bin/kofam_scan-1.3.0/GCF_003812925.1_ASM381292v1_genomic.ko\n",
      "Please input the path to save the CSV file (e.g., '/directory/path/to/something/like/output.csv'): /home/padawan/kofamscan/bin/kofam_scan-1.3.0/GCF_003812925.1_ASM381292v1_genomic.ko.csv\n"
     ]
    }
   ],
   "source": [
    "import pandas as pd\n",
    "from io import StringIO\n",
    "\n",
    "# Specify the path to .ko file - Check folder where exec_annotation is saved!\n",
    "output_ko = input(\"Please input the path to the .ko file (e.g., '/directory/path/to/something/like/GCA_001953955.1.ko'):\")\n",
    "\n",
    "# Read the data line by line, extracting relevant information\n",
    "data_lines = []\n",
    "with open(output_ko, 'r') as file:\n",
    "    for line in file:\n",
    "        # Skip lines that are only the separator\n",
    "        if line.strip() == \"#-------------------- ------ ------- ------ --------- ---------------------\":\n",
    "            continue\n",
    "\n",
    "        # Remove space following asterisk\n",
    "        line = line.replace('* ', '*')\n",
    "\n",
    "        # Split the line into fields\n",
    "        fields = line.split()\n",
    "\n",
    "        # Check if the line has the expected number of fields\n",
    "        if len(fields) >= 6:\n",
    "            # Extract relevant information from the line\n",
    "            gene_name = fields[0]\n",
    "            ko_number = fields[1]\n",
    "            threshold = fields[2]\n",
    "            score = fields[3]\n",
    "            e_value = fields[4]\n",
    "            ko_definition = ' '.join(fields[5:])\n",
    "\n",
    "            # Append the information to the data_lines list\n",
    "            data_lines.append([gene_name, ko_number, threshold, score, e_value, ko_definition])\n",
    "\n",
    "# Create a DataFrame from the collected information\n",
    "data = pd.DataFrame(data_lines, columns=[\"Gene Name\", \"KO#\", \"Threshold\", \"Score\", \"E-value\", \"KO Definition\"])\n",
    "\n",
    "# Sort the DataFrame by \"Gene Name\"\n",
    "data.sort_values(by=\"Gene Name\", inplace=True)\n",
    "\n",
    "# Left-align the content of the DataFrame\n",
    "styled_data = data.style.set_properties(**{'text-align': 'left'})\n",
    "\n",
    "# Display the styled DataFrame\n",
    "styled_data\n",
    "\n"
   ]
  },
  {
   "cell_type": "code",
   "execution_count": null,
   "id": "ff0fdaed-1e14-4b03-adf9-57a4958fb353",
   "metadata": {},
   "outputs": [],
   "source": [
    "# Save the DataFrame to a CSV file\n",
    "output_csv = input(\"Please input the path to save the CSV file (e.g., '/directory/path/to/something/like/output.csv'):\")\n",
    "data.to_csv(output_csv, index=False)\n"
   ]
  },
  {
   "cell_type": "raw",
   "id": "ec2436cf-2958-4e38-928f-3b90893d949d",
   "metadata": {},
   "source": []
  },
  {
   "cell_type": "raw",
   "id": "30a60dcd-1210-4314-b72d-9d2cd0c156c6",
   "metadata": {},
   "source": []
  }
 ],
 "metadata": {
  "kernelspec": {
   "display_name": "Python 3 (ipykernel)",
   "language": "python",
   "name": "python3"
  },
  "language_info": {
   "codemirror_mode": {
    "name": "ipython",
    "version": 3
   },
   "file_extension": ".py",
   "mimetype": "text/x-python",
   "name": "python",
   "nbconvert_exporter": "python",
   "pygments_lexer": "ipython3",
   "version": "3.11.5"
  }
 },
 "nbformat": 4,
 "nbformat_minor": 5
}
